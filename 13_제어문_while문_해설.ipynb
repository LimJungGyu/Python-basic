{
  "nbformat": 4,
  "nbformat_minor": 0,
  "metadata": {
    "colab": {
      "name": "13-제어문_while문_해설.ipynb",
      "provenance": [],
      "collapsed_sections": [
        "H7C3iDi2_9j8",
        "6tOVjD196E-8",
        "20IEhD1kd6iL",
        "RT1oWE7F849X",
        "q4WCzhc-BVel",
        "z1vgVQBzCBOx",
        "m7-KEf46BhMU",
        "0WzemYf0VOm7"
      ]
    },
    "kernelspec": {
      "name": "python3",
      "display_name": "Python 3"
    },
    "language_info": {
      "name": "python"
    }
  },
  "cells": [
    {
      "cell_type": "markdown",
      "metadata": {
        "id": "jgFAOz-Tw1VI"
      },
      "source": [
        "# 13. while문\n",
        "---\n",
        "* 날짜:\n",
        "* 이름:"
      ]
    },
    {
      "cell_type": "markdown",
      "metadata": {
        "id": "H7C3iDi2_9j8"
      },
      "source": [
        "## 개념정리\n",
        "---\n",
        "\n",
        "또 다른 반복문인 whlie문은 for문과 동일하게 특정 코드를 반복해서 진행합니다. 그렇지만 for문과 달리 반복문 내에 반복되는 특정 변수가 없으며 필요시 직접 입력해주어야 합니다. "
      ]
    },
    {
      "cell_type": "markdown",
      "metadata": {
        "id": "6tOVjD196E-8"
      },
      "source": [
        "### **(1) 문법**\n",
        "\n",
        "\n",
        "\n",
        "\n",
        "\n",
        "\n",
        "\n",
        "\n",
        "\n",
        "\n",
        "\n"
      ]
    },
    {
      "cell_type": "markdown",
      "source": [
        "#### **1. 기본구조**\n",
        "\n",
        "while문의 기본 구조는 아래와 같습니다.\n",
        "\n",
        "\n",
        "\n",
        "```\n",
        "while <조건문>:\n",
        "  <반복되는 코드>\n",
        "  ...\n",
        "```\n",
        "\n",
        "조건문은 항상 bool 형태, 즉 True 혹은 False임을 유의하세요. while은 조건문이 True인 동안 계속해서 반복됩니다. <조건문> 자리에 a가 5보다 작다는 조건을 입력해봅시다. 반복문이 시작할 때 a가 0이기 때문에 a<5라는 조건은 **True** 가 됩니다. 조건문이 **True**인 동안 a는 1씩 증가하다가 a가 5 이상이 되는 순간 조건문은 **False**가 되며 반복문이 종료됩니다.\n",
        "\n",
        "```\n",
        "a=0\n",
        "while a<5:\n",
        "  print(a)\n",
        "  a+=1\n",
        "```"
      ],
      "metadata": {
        "id": "20IEhD1kd6iL"
      }
    },
    {
      "cell_type": "code",
      "metadata": {
        "id": "oq5cXkTn0NRZ",
        "colab": {
          "base_uri": "https://localhost:8080/"
        },
        "outputId": "81e3e78d-1070-4e69-c8a1-aa4c54b415c4"
      },
      "source": [
        "a = 0\n",
        "while a<5: # True인 상태기 때문에 while문이 시작됩니다.\n",
        "  print(a)\n",
        "  a+=1\n",
        "print(\"end\")"
      ],
      "execution_count": null,
      "outputs": [
        {
          "output_type": "stream",
          "name": "stdout",
          "text": [
            "0\n",
            "1\n",
            "2\n",
            "3\n",
            "4\n",
            "end\n"
          ]
        }
      ]
    },
    {
      "cell_type": "code",
      "source": [
        "a = 0\n",
        "while a<5: # True인 상태기 때문에 while문이 시작됩니다.\n",
        "  a+=1\n",
        "  print(a)\n",
        "print(\"end\")\n",
        "\n",
        "# while문의 스위치가 꺼져도 도중에 끝나지 않고 루프 전체가 완전히 돌아간 후에 끝납니다."
      ],
      "metadata": {
        "colab": {
          "base_uri": "https://localhost:8080/"
        },
        "id": "mfiOhBRp8g_s",
        "outputId": "a8c5e8c4-9f86-4570-d07c-600f7eb80261"
      },
      "execution_count": null,
      "outputs": [
        {
          "output_type": "stream",
          "name": "stdout",
          "text": [
            "1\n",
            "2\n",
            "3\n",
            "4\n",
            "5\n",
            "end\n"
          ]
        }
      ]
    },
    {
      "cell_type": "markdown",
      "metadata": {
        "id": "RT1oWE7F849X"
      },
      "source": [
        "####**2. 무한루프**\n",
        "\n",
        "이번에는 <조건문> 자리에 직접 **True** 를 입력하겠습니다. 이렇게 되면 반복문의 조건문이 항상 **True인** 상태기 때문에 다른 조건을 코드 아래에 추가해 주지 않으면 무한루프가 됩니다. (아래 코드는 무한 루프이기 때문에 굳이 실행해 보지 않아도 됩니다.)\n",
        "\n",
        "```\n",
        "a=0\n",
        "while True:\n",
        "  print(a)\n",
        "  a+=1\n",
        "```"
      ]
    },
    {
      "cell_type": "markdown",
      "metadata": {
        "id": "q4WCzhc-BVel"
      },
      "source": [
        "###**(3) break과 continue**\n"
      ]
    },
    {
      "cell_type": "markdown",
      "metadata": {
        "id": "z1vgVQBzCBOx"
      },
      "source": [
        "\n",
        "####**1. break**\n",
        " 따라서 무한루프의 경우 보통 반복문 내에 종료코드를 넣어줍니다. 따라서 아래 코드 예시와 같이 특정조건이 될 때 종료하는 코드를 작성합니다. 종료는 앞서 배운 **break** 을 이용합니다.\n",
        "\n",
        " ```\n",
        "a=0\n",
        "while True:\n",
        "  print(a)\n",
        "  a+=1\n",
        "  if a==5:\n",
        "    break\n",
        "```"
      ]
    },
    {
      "cell_type": "code",
      "metadata": {
        "id": "f_wI6w3U849f",
        "colab": {
          "base_uri": "https://localhost:8080/"
        },
        "outputId": "6475fe3f-8e85-4409-e0ad-0f9ee7827c53"
      },
      "source": [
        "a = 0\n",
        "while True:\n",
        "  print(a)\n",
        "  a+=1\n",
        "  if a==5:\n",
        "    break"
      ],
      "execution_count": null,
      "outputs": [
        {
          "output_type": "stream",
          "name": "stdout",
          "text": [
            "0\n",
            "1\n",
            "2\n",
            "3\n",
            "4\n"
          ]
        }
      ]
    },
    {
      "cell_type": "markdown",
      "metadata": {
        "id": "m7-KEf46BhMU"
      },
      "source": [
        "####**2. continue**\n",
        "\n",
        "만일 특정 조건에서 루프를 끝내지 않고 다음 루프로 넘어가고 싶다면 **continue**를 사용합니다.\n",
        "\n",
        " ```\n",
        "a = 0\n",
        "while True:\n",
        "  print(a)\n",
        "  a+=1\n",
        "  if a==5: \n",
        "    continue\n",
        "  if a==10:\n",
        "    break\n",
        "```"
      ]
    },
    {
      "cell_type": "code",
      "metadata": {
        "id": "q9xdqcL4BhMU",
        "colab": {
          "base_uri": "https://localhost:8080/"
        },
        "outputId": "62e14340-0d17-4c48-c9a2-ade95c4ddfdf"
      },
      "source": [
        "a = 0\n",
        "while True:\n",
        "  print(a)\n",
        "  a+=1\n",
        "  if a==5: \n",
        "    continue\n",
        "  if a==10:\n",
        "    break"
      ],
      "execution_count": null,
      "outputs": [
        {
          "output_type": "stream",
          "name": "stdout",
          "text": [
            "0\n",
            "1\n",
            "2\n",
            "3\n",
            "4\n",
            "5\n",
            "6\n",
            "7\n",
            "8\n",
            "9\n"
          ]
        }
      ]
    },
    {
      "cell_type": "markdown",
      "metadata": {
        "id": "Iflmv_G4M7Qs"
      },
      "source": [
        "## 예제\n",
        "---"
      ]
    },
    {
      "cell_type": "markdown",
      "metadata": {
        "id": "0WzemYf0VOm7"
      },
      "source": [
        "####**예제 01**\n",
        "\n",
        "for문으로 작성한 코드와 똑같은 결과가 나오도록 while문으로 작성하세요"
      ]
    },
    {
      "cell_type": "markdown",
      "metadata": {
        "id": "V567aK_sVOm7"
      },
      "source": [
        "**01-1**\n",
        "\n",
        "\n",
        "\n",
        "```\n",
        "for i in range(3, 10):\n",
        "  print(i)\n",
        "```\n",
        "\n",
        "\n"
      ]
    },
    {
      "cell_type": "code",
      "metadata": {
        "id": "OtwQWRjaVOm7",
        "colab": {
          "base_uri": "https://localhost:8080/"
        },
        "outputId": "5aa0ff0c-9995-467b-b32b-c6b575de5c47"
      },
      "source": [
        "for i in range(3, 10):\n",
        "  print(i)\n",
        "print(\"----------\")\n",
        "\n",
        "i=3\n",
        "while i<10:\n",
        "  print(i)\n",
        "  i+=1"
      ],
      "execution_count": 4,
      "outputs": [
        {
          "output_type": "stream",
          "name": "stdout",
          "text": [
            "3\n",
            "4\n",
            "5\n",
            "6\n",
            "7\n",
            "8\n",
            "9\n",
            "----------\n",
            "3\n",
            "4\n",
            "5\n",
            "6\n",
            "7\n",
            "8\n",
            "9\n"
          ]
        }
      ]
    },
    {
      "cell_type": "markdown",
      "metadata": {
        "id": "fNG7mwz3VetW"
      },
      "source": [
        "**01-2**\n",
        "\n",
        "\n",
        "\n",
        "```\n",
        "for i in range(1, 101, 5):\n",
        "  print(i)\n",
        "```\n",
        "\n",
        "\n"
      ]
    },
    {
      "cell_type": "code",
      "metadata": {
        "id": "wcDUFuXKVete",
        "colab": {
          "base_uri": "https://localhost:8080/"
        },
        "outputId": "7f3835ca-b25a-46cb-f863-8a1b7b4c60dd"
      },
      "source": [
        "for i in range(1, 101, 5):\n",
        "  print(i)\n",
        "print(\"----------\")\n",
        "\n",
        "i=1\n",
        "while i<101:\n",
        "  print(i)\n",
        "  i+=5"
      ],
      "execution_count": 3,
      "outputs": [
        {
          "output_type": "stream",
          "name": "stdout",
          "text": [
            "1\n",
            "6\n",
            "11\n",
            "16\n",
            "21\n",
            "26\n",
            "31\n",
            "36\n",
            "41\n",
            "46\n",
            "51\n",
            "56\n",
            "61\n",
            "66\n",
            "71\n",
            "76\n",
            "81\n",
            "86\n",
            "91\n",
            "96\n",
            "----------\n",
            "1\n",
            "6\n",
            "11\n",
            "16\n",
            "21\n",
            "26\n",
            "31\n",
            "36\n",
            "41\n",
            "46\n",
            "51\n",
            "56\n",
            "61\n",
            "66\n",
            "71\n",
            "76\n",
            "81\n",
            "86\n",
            "91\n",
            "96\n"
          ]
        }
      ]
    },
    {
      "cell_type": "markdown",
      "metadata": {
        "id": "hyg0Dv0jVjMR"
      },
      "source": [
        "**01-3**\n",
        "\n",
        "\n",
        "\n",
        "```\n",
        "for i in range(100):\n",
        "  if i%2==0:\n",
        "    print(i,\"짝수\")\n",
        "  if i==80: break\n",
        "```\n",
        "\n",
        "\n"
      ]
    },
    {
      "cell_type": "code",
      "metadata": {
        "id": "e4MtpHJVVjMS",
        "colab": {
          "base_uri": "https://localhost:8080/"
        },
        "outputId": "a79a7364-60f4-4cec-b6bc-2b4145066c72"
      },
      "source": [
        "for i in range(100):\n",
        "  if i%2==0:\n",
        "    print(i,\"짝수\")\n",
        "  if i==80: break\n",
        "print(\"----------\")\n",
        "\n",
        "i=0\n",
        "while i<100:\n",
        "  if i%2==0:\n",
        "    print(i,\"짝수\")\n",
        "  if i==80: break\n",
        "  i+=1"
      ],
      "execution_count": 8,
      "outputs": [
        {
          "output_type": "stream",
          "name": "stdout",
          "text": [
            "0 짝수\n",
            "2 짝수\n",
            "4 짝수\n",
            "6 짝수\n",
            "8 짝수\n",
            "10 짝수\n",
            "12 짝수\n",
            "14 짝수\n",
            "16 짝수\n",
            "18 짝수\n",
            "20 짝수\n",
            "22 짝수\n",
            "24 짝수\n",
            "26 짝수\n",
            "28 짝수\n",
            "30 짝수\n",
            "32 짝수\n",
            "34 짝수\n",
            "36 짝수\n",
            "38 짝수\n",
            "40 짝수\n",
            "42 짝수\n",
            "44 짝수\n",
            "46 짝수\n",
            "48 짝수\n",
            "50 짝수\n",
            "52 짝수\n",
            "54 짝수\n",
            "56 짝수\n",
            "58 짝수\n",
            "60 짝수\n",
            "62 짝수\n",
            "64 짝수\n",
            "66 짝수\n",
            "68 짝수\n",
            "70 짝수\n",
            "72 짝수\n",
            "74 짝수\n",
            "76 짝수\n",
            "78 짝수\n",
            "80 짝수\n",
            "----------\n",
            "0 짝수\n",
            "2 짝수\n",
            "4 짝수\n",
            "6 짝수\n",
            "8 짝수\n",
            "10 짝수\n",
            "12 짝수\n",
            "14 짝수\n",
            "16 짝수\n",
            "18 짝수\n",
            "20 짝수\n",
            "22 짝수\n",
            "24 짝수\n",
            "26 짝수\n",
            "28 짝수\n",
            "30 짝수\n",
            "32 짝수\n",
            "34 짝수\n",
            "36 짝수\n",
            "38 짝수\n",
            "40 짝수\n",
            "42 짝수\n",
            "44 짝수\n",
            "46 짝수\n",
            "48 짝수\n",
            "50 짝수\n",
            "52 짝수\n",
            "54 짝수\n",
            "56 짝수\n",
            "58 짝수\n",
            "60 짝수\n",
            "62 짝수\n",
            "64 짝수\n",
            "66 짝수\n",
            "68 짝수\n",
            "70 짝수\n",
            "72 짝수\n",
            "74 짝수\n",
            "76 짝수\n",
            "78 짝수\n",
            "80 짝수\n"
          ]
        }
      ]
    },
    {
      "cell_type": "markdown",
      "metadata": {
        "id": "DRIyLFz9osvD"
      },
      "source": [
        "####**예제 02**\n"
      ]
    },
    {
      "cell_type": "markdown",
      "metadata": {
        "id": "PGqiWqJTCuse"
      },
      "source": [
        "**02-1**\n",
        "\n",
        "while 문을 이용해 1에서 100까지 짝수만 출력하세요\n"
      ]
    },
    {
      "cell_type": "code",
      "metadata": {
        "id": "q7-7tm09osvG"
      },
      "source": [
        "i=1\n",
        "while i<101:\n",
        "  if i%2==0:\n",
        "    print(i)\n",
        "  i+=1"
      ],
      "execution_count": null,
      "outputs": []
    },
    {
      "cell_type": "markdown",
      "metadata": {
        "id": "WIX0mZ7qCyIF"
      },
      "source": [
        "**02-2**\n",
        "\n",
        "while 문을 이용해 1에서 100까지 홀수만 더한 값을 구하세요\n"
      ]
    },
    {
      "cell_type": "code",
      "metadata": {
        "id": "cnjUAJIICyIF",
        "colab": {
          "base_uri": "https://localhost:8080/"
        },
        "outputId": "faaa429d-db84-4f7c-8433-116123112e88"
      },
      "source": [
        "i, sum_i = 1, 0\n",
        "while i<101:\n",
        "  if i%2==1:\n",
        "    sum_i += i\n",
        "  i+=1\n",
        "print(sum_i)"
      ],
      "execution_count": 25,
      "outputs": [
        {
          "output_type": "stream",
          "name": "stdout",
          "text": [
            "2500\n"
          ]
        }
      ]
    },
    {
      "cell_type": "markdown",
      "metadata": {
        "id": "zWScEk-EGhwd"
      },
      "source": [
        "**02-3**\n",
        "\n",
        "while 문을 이용해 1에서 100까지 4와 3의 공배수들의 평균을 구하세요"
      ]
    },
    {
      "cell_type": "code",
      "metadata": {
        "id": "bWs6T18SGhwn",
        "colab": {
          "base_uri": "https://localhost:8080/"
        },
        "outputId": "165bb307-7e3e-4bcc-d2f3-ef5acdbb40f5"
      },
      "source": [
        "i, sum_i, len_i = 1, 0, 0\n",
        "while i<101:\n",
        "  if i%4==0 and i%3==0 and i>=4:\n",
        "    sum_i +=i\n",
        "    len_i +=1\n",
        "  i+=1\n",
        "print(sum_i/len_i)"
      ],
      "execution_count": 28,
      "outputs": [
        {
          "output_type": "stream",
          "name": "stdout",
          "text": [
            "54.0\n"
          ]
        }
      ]
    },
    {
      "cell_type": "markdown",
      "metadata": {
        "id": "kw18OZIipTEp"
      },
      "source": [
        "####**예제 03**\n",
        "* while구문을 시작합니다.\n",
        "* input() 함수로 사용자의 입력을 계속 받습니다.\n",
        "* 사용자가 \"그만\" 이라고 입력하면 구문을 종료합니다."
      ]
    },
    {
      "cell_type": "code",
      "metadata": {
        "id": "QRSaiTFnpmHH",
        "colab": {
          "base_uri": "https://localhost:8080/"
        },
        "outputId": "1fdb4aa7-22ae-485c-fcdf-5130cd25d945"
      },
      "source": [
        "while True:\n",
        "  in_str = input()\n",
        "  if in_str=='그만':\n",
        "    break"
      ],
      "execution_count": 30,
      "outputs": [
        {
          "name": "stdout",
          "output_type": "stream",
          "text": [
            "\n",
            "그만\n"
          ]
        }
      ]
    },
    {
      "cell_type": "markdown",
      "metadata": {
        "id": "LpJsFw-EC5XD"
      },
      "source": [
        "####**예제 04**\n",
        "\n",
        "while문을 이용해 아래 결과를 내는 함수 **bomb()** 를 작성하세요. 음수가 입력될 경우 다른 에러메시지를 출력하세요.\n",
        "\n",
        "\n",
        "```\n",
        ">> bomb() \n",
        "Enter timer: 6\n",
        "befor 6 sec.\n",
        "befor 5 sec.\n",
        "befor 4 sec.\n",
        "befor 3 sec.\n",
        "befor 2 sec.\n",
        "befor 1 sec.\n",
        "BOMB!\n",
        ">> bomb()\n",
        "Enter timer: -3\n",
        "TIMER ERROR\n",
        "```"
      ]
    },
    {
      "cell_type": "code",
      "metadata": {
        "id": "-sVLA7toC5XE",
        "colab": {
          "base_uri": "https://localhost:8080/"
        },
        "outputId": "9badd133-0b7f-4256-a424-2cf63abda4b0"
      },
      "source": [
        "def bomb():\n",
        "  in_int = int(input(\"Enter timer: \"))\n",
        "  \n",
        "  if in_int<=0:\n",
        "    print(\"TIMER ERROR\")\n",
        "  else:  \n",
        "    while True:\n",
        "      print(\"before %i sec.\"%in_int)\n",
        "      in_int-=1\n",
        "      if in_int==0:\n",
        "        print(\"BOMB!\")\n",
        "        break\n",
        "    \n",
        "bomb()"
      ],
      "execution_count": 40,
      "outputs": [
        {
          "output_type": "stream",
          "name": "stdout",
          "text": [
            "Enter timer: 4\n",
            "before 4 sec.\n",
            "before 3 sec.\n",
            "before 2 sec.\n",
            "before 1 sec.\n",
            "BOMB!\n"
          ]
        }
      ]
    },
    {
      "cell_type": "markdown",
      "metadata": {
        "id": "VA82XGeLEtby"
      },
      "source": [
        "####**예제 05**\n",
        "\n",
        "연이자율이 8%인 예금통장에 길동이는 올해 1월 1000만원을 예금했습니다. 이 돈이 1500만원을 넘기는 시점은 몇년뒤 인지 while문을 이용해서 구하세요"
      ]
    },
    {
      "cell_type": "code",
      "metadata": {
        "id": "tSrnynfGEtb3",
        "colab": {
          "base_uri": "https://localhost:8080/"
        },
        "outputId": "af34d711-c787-437d-e6bd-d3d26a82541d"
      },
      "source": [
        "money = 1000\n",
        "i=0\n",
        "while True:\n",
        "  i+=1\n",
        "  money+=money*0.08\n",
        "  if money>1500: break\n",
        "print(i, money)"
      ],
      "execution_count": 43,
      "outputs": [
        {
          "output_type": "stream",
          "name": "stdout",
          "text": [
            "6 1586.874322944\n"
          ]
        }
      ]
    },
    {
      "cell_type": "markdown",
      "metadata": {
        "id": "ynd3jWe2CezS"
      },
      "source": [
        "####**예제 06**\n",
        "* while 문을 이용해 1부터 100까지 값을 출력합니다.\n",
        "* 만약 출력값이 2의 배수면 mul2, 3의 배수면 mul3, 5의 배수면 mul5에 넣으세요 \n",
        "* mul2, mul3, mul5는 리스트이며 중복가능하게 각 리스트에 숫자를 넣습니다."
      ]
    },
    {
      "cell_type": "code",
      "metadata": {
        "id": "E-1LXtb7CezT",
        "colab": {
          "base_uri": "https://localhost:8080/"
        },
        "outputId": "4a525b54-c339-4b06-a8cc-4acdd6f080b6"
      },
      "source": [
        "i=1\n",
        "mul2, mul3, mul5 = [], [], []\n",
        "while i<=100:\n",
        "  if i%2==0 and i>=2:\n",
        "    mul2.append(i)\n",
        "  if i%3==0 and i>=3:\n",
        "    mul3.append(i)\n",
        "  if i%5==0 and i>=5:\n",
        "    mul5.append(i)\n",
        "  i+=1\n",
        "\n",
        "print(mul2)\n",
        "print(mul3)\n",
        "print(mul5)"
      ],
      "execution_count": 46,
      "outputs": [
        {
          "output_type": "stream",
          "name": "stdout",
          "text": [
            "[2, 4, 6, 8, 10, 12, 14, 16, 18, 20, 22, 24, 26, 28, 30, 32, 34, 36, 38, 40, 42, 44, 46, 48, 50, 52, 54, 56, 58, 60, 62, 64, 66, 68, 70, 72, 74, 76, 78, 80, 82, 84, 86, 88, 90, 92, 94, 96, 98, 100]\n",
            "[3, 6, 9, 12, 15, 18, 21, 24, 27, 30, 33, 36, 39, 42, 45, 48, 51, 54, 57, 60, 63, 66, 69, 72, 75, 78, 81, 84, 87, 90, 93, 96, 99]\n",
            "[5, 10, 15, 20, 25, 30, 35, 40, 45, 50, 55, 60, 65, 70, 75, 80, 85, 90, 95, 100]\n"
          ]
        }
      ]
    },
    {
      "cell_type": "markdown",
      "metadata": {
        "id": "nx5LAWlzF-p5"
      },
      "source": [
        "####**예제 07** \n",
        "\n",
        "출처: 백준 https://www.acmicpc.net/problem/1110\n",
        "\n",
        "0보다 크거나 같고, 99보다 작거나 같은 정수가 주어질 때 다음과 같은 연산을 할 수 있다. 먼저 주어진 수가 10보다 작다면 앞에 0을 붙여 두 자리 수로 만들고, 각 자리의 숫자를 더한다. 그 다음, 주어진 수의 가장 오른쪽 자리 수와 앞에서 구한 합의 가장 오른쪽 자리 수를 이어 붙이면 새로운 수를 만들 수 있다. 다음 예를 보자.\n",
        "\n",
        "26부터 시작한다. 2+6 = 8이다. 새로운 수는 68이다. 6+8 = 14이다. 새로운 수는 84이다. 8+4 = 12이다. 새로운 수는 42이다. 4+2 = 6이다. 새로운 수는 26이다.\n",
        "\n",
        "위의 예는 4번만에 원래 수로 돌아올 수 있다. 따라서 26의 사이클의 길이는 4이다.\n",
        "\n",
        "N이 주어졌을 때, N의 사이클의 길이를 구하는 함수 **find_cycle()**을 작성하시오.\n",
        "\n",
        "\n",
        "\n",
        "```\n",
        ">>find_cycle()\n",
        "N을 입력하세요(0부터99까지): 26\n",
        "cycle은 4 입니다.\n",
        ">>find_cycle()\n",
        "N을 입력하세요(0부터99까지): 55\n",
        "cycle은 3 입니다.\n",
        ">>find_cycle()\n",
        "N을 입력하세요(0부터99까지): 0\n",
        "cycle은 1 입니다.\n",
        ">>find_cycle()\n",
        "N을 입력하세요(0부터99까지): 1\n",
        "cycle은 60 입니다.\n",
        "\n",
        "```\n",
        "\n"
      ]
    },
    {
      "cell_type": "code",
      "metadata": {
        "id": "jqTf8LYQF-p_",
        "colab": {
          "base_uri": "https://localhost:8080/"
        },
        "outputId": "cb0199dc-b830-411d-94a7-685fef54e1b0"
      },
      "source": [
        "in_str = input()\n",
        "if len(in_str)==1:\n",
        "  in_str = '0'+in_str\n",
        "\n",
        "cycle_str = in_str\n",
        "cycle = 0\n",
        "while True:\n",
        "  cycle+=1\n",
        "\n",
        "  in_1, in_10 = int(cycle_str[-1]), int(cycle_str[-2])\n",
        "  in_sum = in_10+in_1  \n",
        "  if in_sum>=10: in_sum-=10 \n",
        "  cycle_str+=str(in_sum)\n",
        "  #print(cycle_str)\n",
        "  \n",
        "  if in_str == cycle_str[-2:] or in_str==cycle_str[-1:]:\n",
        "    print(\"cycle은 %i 입니다\"%cycle)\n",
        "    break"
      ],
      "execution_count": 90,
      "outputs": [
        {
          "output_type": "stream",
          "name": "stdout",
          "text": [
            "0\n",
            "cycle은 1 입니다\n"
          ]
        }
      ]
    },
    {
      "cell_type": "code",
      "source": [
        ""
      ],
      "metadata": {
        "id": "0yzxa4aXxf3-"
      },
      "execution_count": null,
      "outputs": []
    }
  ]
}